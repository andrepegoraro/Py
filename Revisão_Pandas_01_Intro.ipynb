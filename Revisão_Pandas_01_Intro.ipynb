{
  "nbformat": 4,
  "nbformat_minor": 0,
  "metadata": {
    "colab": {
      "name": "Revisão Pandas 01 - Intro.ipynb",
      "provenance": [],
      "authorship_tag": "ABX9TyPE3R6D1+yAKiLretUc5eod",
      "include_colab_link": true
    },
    "kernelspec": {
      "name": "python3",
      "display_name": "Python 3"
    },
    "language_info": {
      "name": "python"
    }
  },
  "cells": [
    {
      "cell_type": "markdown",
      "metadata": {
        "id": "view-in-github",
        "colab_type": "text"
      },
      "source": [
        "<a href=\"https://colab.research.google.com/github/andrepegoraro/Py/blob/main/Revis%C3%A3o_Pandas_01_Intro.ipynb\" target=\"_parent\"><img src=\"https://colab.research.google.com/assets/colab-badge.svg\" alt=\"Open In Colab\"/></a>"
      ]
    },
    {
      "cell_type": "markdown",
      "source": [
        "## INTRO\n",
        "\n",
        "First of all, we import `Pandas` Library. Also `NumPy` for Ops and `Matplotlib.pyplot` for graphs and other stuff:"
      ],
      "metadata": {
        "id": "SYI1CKlKhcOD"
      }
    },
    {
      "cell_type": "code",
      "execution_count": 1,
      "metadata": {
        "id": "CxttYpk4ggx7"
      },
      "outputs": [],
      "source": [
        "import pandas as pd\n",
        "import numpy as np\n",
        "import matplotlib.pyplot as plt"
      ]
    },
    {
      "cell_type": "markdown",
      "source": [
        "##DATA STRUCTURES\n",
        "\n",
        "##`Series`\n",
        "\n",
        "Its an unidimensional matrix. Its basically a list that contains values, it can stock any kind of data. Here we can see Messi's amount of goals in the 5 last seasons he played in La Liga"
      ],
      "metadata": {
        "id": "ZpBOsAX5ig2Z"
      }
    },
    {
      "cell_type": "code",
      "source": [
        "goals = pd.Series([37, 34, 36, 25, 30])\n",
        "goals"
      ],
      "metadata": {
        "colab": {
          "base_uri": "https://localhost:8080/"
        },
        "id": "dsfFtDFLihRp",
        "outputId": "5836d5a5-823c-428a-8199-6902b9c194c0"
      },
      "execution_count": 2,
      "outputs": [
        {
          "output_type": "execute_result",
          "data": {
            "text/plain": [
              "0    37\n",
              "1    34\n",
              "2    36\n",
              "3    25\n",
              "4    30\n",
              "dtype: int64"
            ]
          },
          "metadata": {},
          "execution_count": 2
        }
      ]
    },
    {
      "cell_type": "markdown",
      "source": [
        "Remember that the left column shows whats known to be the `Index` of each element of the `Series`. We can name each index, otherwise it'll be shown as numbers **starting from 0** (never forget that):"
      ],
      "metadata": {
        "id": "ca_iqvzXinBa"
      }
    },
    {
      "cell_type": "code",
      "source": [
        "goals.values #Returns the values"
      ],
      "metadata": {
        "colab": {
          "base_uri": "https://localhost:8080/"
        },
        "id": "zTWQWH6VlvrP",
        "outputId": "faf47955-8189-42e3-c1d4-020d1a4af77e"
      },
      "execution_count": 3,
      "outputs": [
        {
          "output_type": "execute_result",
          "data": {
            "text/plain": [
              "array([37, 34, 36, 25, 30])"
            ]
          },
          "metadata": {},
          "execution_count": 3
        }
      ]
    },
    {
      "cell_type": "code",
      "source": [
        "goals.index #Returns the index"
      ],
      "metadata": {
        "colab": {
          "base_uri": "https://localhost:8080/"
        },
        "id": "pmEetfTLlvSm",
        "outputId": "c8ca9f32-a968-4024-8bfb-5303b28f7b14"
      },
      "execution_count": 4,
      "outputs": [
        {
          "output_type": "execute_result",
          "data": {
            "text/plain": [
              "RangeIndex(start=0, stop=5, step=1)"
            ]
          },
          "metadata": {},
          "execution_count": 4
        }
      ]
    },
    {
      "cell_type": "code",
      "source": [
        "goals = pd.Series([37, 34, 36, 25, 30], index = ['Season 16-17', 'Season 17-18', 'Season 18-19', 'Season 19-20', 'Season 20-21'])\n",
        "goals"
      ],
      "metadata": {
        "colab": {
          "base_uri": "https://localhost:8080/"
        },
        "id": "vCxBwxXDim2S",
        "outputId": "fd7bb05b-413a-419e-bc40-384597f8c433"
      },
      "execution_count": 5,
      "outputs": [
        {
          "output_type": "execute_result",
          "data": {
            "text/plain": [
              "Season 16-17    37\n",
              "Season 17-18    34\n",
              "Season 18-19    36\n",
              "Season 19-20    25\n",
              "Season 20-21    30\n",
              "dtype: int64"
            ]
          },
          "metadata": {},
          "execution_count": 5
        }
      ]
    },
    {
      "cell_type": "code",
      "source": [
        "goals['Season 18-19'] #To acess a value by its index"
      ],
      "metadata": {
        "colab": {
          "base_uri": "https://localhost:8080/"
        },
        "id": "dZpNyoLAimxa",
        "outputId": "4213a1fb-4dc0-4230-f233-eb06b817dcc2"
      },
      "execution_count": 6,
      "outputs": [
        {
          "output_type": "execute_result",
          "data": {
            "text/plain": [
              "36"
            ]
          },
          "metadata": {},
          "execution_count": 6
        }
      ]
    },
    {
      "cell_type": "markdown",
      "source": [
        ""
      ],
      "metadata": {
        "id": "jJvYZM_WinET"
      }
    },
    {
      "cell_type": "markdown",
      "source": [
        ""
      ],
      "metadata": {
        "id": "_6gP6kloinHK"
      }
    },
    {
      "cell_type": "code",
      "source": [
        ""
      ],
      "metadata": {
        "id": "NRU1zRY7imqR"
      },
      "execution_count": null,
      "outputs": []
    },
    {
      "cell_type": "markdown",
      "source": [
        ""
      ],
      "metadata": {
        "id": "ywAV_vpZinJt"
      }
    },
    {
      "cell_type": "code",
      "source": [
        ""
      ],
      "metadata": {
        "id": "kyxw-midimhJ"
      },
      "execution_count": null,
      "outputs": []
    },
    {
      "cell_type": "markdown",
      "source": [
        ""
      ],
      "metadata": {
        "id": "ht0f0In8inSR"
      }
    }
  ]
}