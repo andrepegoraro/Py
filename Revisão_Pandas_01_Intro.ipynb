{
  "nbformat": 4,
  "nbformat_minor": 0,
  "metadata": {
    "colab": {
      "name": "Revisão Pandas 01 - Intro.ipynb",
      "provenance": [],
      "authorship_tag": "ABX9TyPZ86Kc4X2I7icjHDrCqOkN",
      "include_colab_link": true
    },
    "kernelspec": {
      "name": "python3",
      "display_name": "Python 3"
    },
    "language_info": {
      "name": "python"
    }
  },
  "cells": [
    {
      "cell_type": "markdown",
      "metadata": {
        "id": "view-in-github",
        "colab_type": "text"
      },
      "source": [
        "<a href=\"https://colab.research.google.com/github/andrepegoraro/Py/blob/main/Revis%C3%A3o_Pandas_01_Intro.ipynb\" target=\"_parent\"><img src=\"https://colab.research.google.com/assets/colab-badge.svg\" alt=\"Open In Colab\"/></a>"
      ]
    },
    {
      "cell_type": "code",
      "execution_count": null,
      "metadata": {
        "id": "CxttYpk4ggx7"
      },
      "outputs": [],
      "source": [
        ""
      ]
    }
  ]
}