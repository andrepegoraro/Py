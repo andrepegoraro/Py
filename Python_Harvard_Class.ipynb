{
  "nbformat": 4,
  "nbformat_minor": 0,
  "metadata": {
    "colab": {
      "name": "Python Harvard Class.ipynb",
      "provenance": [],
      "authorship_tag": "ABX9TyNGxDrQ5A+h2gjPj4k5vfc2",
      "include_colab_link": true
    },
    "kernelspec": {
      "name": "python3",
      "display_name": "Python 3"
    },
    "language_info": {
      "name": "python"
    }
  },
  "cells": [
    {
      "cell_type": "markdown",
      "metadata": {
        "id": "view-in-github",
        "colab_type": "text"
      },
      "source": [
        "<a href=\"https://colab.research.google.com/github/andrepegoraro/Py/blob/main/Python_Harvard_Class.ipynb\" target=\"_parent\"><img src=\"https://colab.research.google.com/assets/colab-badge.svg\" alt=\"Open In Colab\"/></a>"
      ]
    },
    {
      "cell_type": "markdown",
      "source": [
        "hello.py"
      ],
      "metadata": {
        "id": "pmYcX52NpHNm"
      }
    },
    {
      "cell_type": "code",
      "execution_count": 1,
      "metadata": {
        "colab": {
          "base_uri": "https://localhost:8080/"
        },
        "id": "rqyG60cjk6nS",
        "outputId": "8f0534d3-28aa-4cbd-d6e0-963d2d720e24"
      },
      "outputs": [
        {
          "output_type": "stream",
          "name": "stdout",
          "text": [
            "Hello world\n"
          ]
        }
      ],
      "source": [
        "print(\"Hello world\")"
      ]
    },
    {
      "cell_type": "markdown",
      "source": [
        "Types of characters:"
      ],
      "metadata": {
        "id": "QDkfamY9k_34"
      }
    },
    {
      "cell_type": "code",
      "source": [
        "a = 28       #int\n",
        "b = 1.5      #float\n",
        "c = \"Hello!\" #str\n",
        "d = True     #bool   \n",
        "e = None     #NoneType"
      ],
      "metadata": {
        "id": "R0_IiOs0k-9Q"
      },
      "execution_count": 3,
      "outputs": []
    },
    {
      "cell_type": "markdown",
      "source": [
        "name.py"
      ],
      "metadata": {
        "id": "tNL4F0C1pKL5"
      }
    },
    {
      "cell_type": "code",
      "source": [
        "name = input(\"Name: \")\n",
        "print(\"Hello, \" + name) #o + concatena o input com o print"
      ],
      "metadata": {
        "colab": {
          "base_uri": "https://localhost:8080/"
        },
        "id": "qDuD0urMnSZL",
        "outputId": "31e31fbe-bebe-4303-e2c7-6f9f457ec9ab"
      },
      "execution_count": 4,
      "outputs": [
        {
          "output_type": "stream",
          "name": "stdout",
          "text": [
            "Name: Andre\n",
            "Hello, Andre\n"
          ]
        }
      ]
    },
    {
      "cell_type": "code",
      "source": [
        "name = input(\"Name: \")\n",
        "print(f\"Hello, {name}\") "
      ],
      "metadata": {
        "colab": {
          "base_uri": "https://localhost:8080/"
        },
        "id": "0Fqrb0_NnSUn",
        "outputId": "16f8146e-6559-43bb-c063-e82efb9f47d3"
      },
      "execution_count": 5,
      "outputs": [
        {
          "output_type": "stream",
          "name": "stdout",
          "text": [
            "Name: Jonas\n",
            "Hello, Jonas\n"
          ]
        }
      ]
    },
    {
      "cell_type": "markdown",
      "source": [
        "conditions.py"
      ],
      "metadata": {
        "id": "g4g0TvC_pRcI"
      }
    },
    {
      "cell_type": "code",
      "source": [
        "n = input(\"Number: \")\n",
        "\n",
        "if n > 0: # a \"type error\" is oftenly an error in which python expected one type and we wrote another\n",
        "  print(\"n is positive\")\n",
        "elif n < 0:\n",
        "  print(\"n is negative\")\n",
        "else:\n",
        "  print(\"n is zero\")"
      ],
      "metadata": {
        "colab": {
          "base_uri": "https://localhost:8080/",
          "height": 252
        },
        "id": "HOtloB9rnSOc",
        "outputId": "f60b43a3-5db9-4ccc-be5b-7088cf8ab6d2"
      },
      "execution_count": 12,
      "outputs": [
        {
          "name": "stdout",
          "output_type": "stream",
          "text": [
            "Number: 4\n"
          ]
        },
        {
          "output_type": "error",
          "ename": "TypeError",
          "evalue": "ignored",
          "traceback": [
            "\u001b[0;31m---------------------------------------------------------------------------\u001b[0m",
            "\u001b[0;31mTypeError\u001b[0m                                 Traceback (most recent call last)",
            "\u001b[0;32m<ipython-input-12-e6e16e7dd902>\u001b[0m in \u001b[0;36m<module>\u001b[0;34m()\u001b[0m\n\u001b[1;32m      1\u001b[0m \u001b[0mn\u001b[0m \u001b[0;34m=\u001b[0m \u001b[0minput\u001b[0m\u001b[0;34m(\u001b[0m\u001b[0;34m\"Number: \"\u001b[0m\u001b[0;34m)\u001b[0m\u001b[0;34m\u001b[0m\u001b[0;34m\u001b[0m\u001b[0m\n\u001b[1;32m      2\u001b[0m \u001b[0;34m\u001b[0m\u001b[0m\n\u001b[0;32m----> 3\u001b[0;31m \u001b[0;32mif\u001b[0m \u001b[0mn\u001b[0m \u001b[0;34m>\u001b[0m \u001b[0;36m0\u001b[0m\u001b[0;34m:\u001b[0m \u001b[0;31m# a \"type error\" is oftenly an error in which python expected one type and we wrote another\u001b[0m\u001b[0;34m\u001b[0m\u001b[0;34m\u001b[0m\u001b[0m\n\u001b[0m\u001b[1;32m      4\u001b[0m   \u001b[0mprint\u001b[0m\u001b[0;34m(\u001b[0m\u001b[0;34m\"n is positive\"\u001b[0m\u001b[0;34m)\u001b[0m\u001b[0;34m\u001b[0m\u001b[0;34m\u001b[0m\u001b[0m\n\u001b[1;32m      5\u001b[0m \u001b[0;32melif\u001b[0m \u001b[0mn\u001b[0m \u001b[0;34m<\u001b[0m \u001b[0;36m0\u001b[0m\u001b[0;34m:\u001b[0m\u001b[0;34m\u001b[0m\u001b[0;34m\u001b[0m\u001b[0m\n",
            "\u001b[0;31mTypeError\u001b[0m: '>' not supported between instances of 'str' and 'int'"
          ]
        }
      ]
    },
    {
      "cell_type": "code",
      "source": [
        "n = int(input(\"Number: \")) #function that tells the input that we ll accept only int entries\n",
        "\n",
        "if n > 0: # a \"type error\" is oftenly an error in which python expected one type and we wrote another\n",
        "  print(\"n is positive\")\n",
        "elif n < 0:\n",
        "  print(\"n is negative\")\n",
        "else:\n",
        "  print(\"n is zero\")"
      ],
      "metadata": {
        "id": "CqclnLOmnSE1"
      },
      "execution_count": null,
      "outputs": []
    },
    {
      "cell_type": "markdown",
      "source": [
        "sequences.py"
      ],
      "metadata": {
        "id": "NhHH7HYdrSyN"
      }
    },
    {
      "cell_type": "code",
      "source": [
        "name = \"Harry\"\n",
        "\n",
        "print(name[0])\n"
      ],
      "metadata": {
        "colab": {
          "base_uri": "https://localhost:8080/"
        },
        "id": "1NUor51drSko",
        "outputId": "8949a45b-50fa-47de-c643-615470fa5c4b"
      },
      "execution_count": 13,
      "outputs": [
        {
          "output_type": "stream",
          "name": "stdout",
          "text": [
            "H\n"
          ]
        }
      ]
    },
    {
      "cell_type": "code",
      "source": [
        "name = \"Harry\"\n",
        "\n",
        "print(name[2])"
      ],
      "metadata": {
        "colab": {
          "base_uri": "https://localhost:8080/"
        },
        "id": "p0eswbNyruOv",
        "outputId": "4e0e352b-b5cc-48d6-d25b-9ef97fc41970"
      },
      "execution_count": 14,
      "outputs": [
        {
          "output_type": "stream",
          "name": "stdout",
          "text": [
            "r\n"
          ]
        }
      ]
    },
    {
      "cell_type": "code",
      "source": [
        "names = [\"Harry\", \"Ron\", \"Hermione\"]\n",
        "\n",
        "print(names)\n",
        "print(names[0])"
      ],
      "metadata": {
        "colab": {
          "base_uri": "https://localhost:8080/"
        },
        "id": "8AGqlLaRrs9b",
        "outputId": "c9e4b570-5122-4400-d4a5-154cf782153b"
      },
      "execution_count": 16,
      "outputs": [
        {
          "output_type": "stream",
          "name": "stdout",
          "text": [
            "['Harry', 'Ron', 'Hermione']\n",
            "Harry\n"
          ]
        }
      ]
    },
    {
      "cell_type": "markdown",
      "source": [
        "sequences tuple.py"
      ],
      "metadata": {
        "id": "yML-jYWSsJkZ"
      }
    },
    {
      "cell_type": "code",
      "source": [
        "coordinateX = 10.0\n",
        "coordinateY = 20.0\n",
        "\n",
        "coordinate = (10.0, 20.0)\n"
      ],
      "metadata": {
        "id": "D21PEnTasIGt"
      },
      "execution_count": null,
      "outputs": []
    },
    {
      "cell_type": "markdown",
      "source": [
        "###Data Structures\n",
        "\n",
        "- `list` - sequence of mutable values\n",
        "- `tuple` - sequence of immutable values\n",
        "- `set` - collection of unique values\n",
        "- `dict` - collection of key-value pairs"
      ],
      "metadata": {
        "id": "LM68Jo23sHvd"
      }
    },
    {
      "cell_type": "markdown",
      "source": [
        "lists.py"
      ],
      "metadata": {
        "id": "kJZbPRQ1tpOv"
      }
    },
    {
      "cell_type": "code",
      "source": [
        "# Define a list of names\n",
        "names = [\"Harry\", \"Ron\", \"Hermione\", \"Ginny\"]\n",
        "\n",
        "print(names[3]) #printing just one name\n",
        "\n",
        "# but a list is muttable, so we can add items to it\n",
        "\n",
        "names.append(\"Draco\")\n",
        "\n",
        "names.sort()\n",
        "\n",
        "print(names)\n",
        "\n"
      ],
      "metadata": {
        "colab": {
          "base_uri": "https://localhost:8080/"
        },
        "id": "4e-DLYVWtp2P",
        "outputId": "a19edf81-ffaf-4b62-d49f-37cbdad90aa4"
      },
      "execution_count": 20,
      "outputs": [
        {
          "output_type": "stream",
          "name": "stdout",
          "text": [
            "Ginny\n",
            "['Draco', 'Ginny', 'Harry', 'Hermione', 'Ron']\n"
          ]
        }
      ]
    },
    {
      "cell_type": "markdown",
      "source": [
        "sets.py"
      ],
      "metadata": {
        "id": "AmrpYJrtuhIq"
      }
    },
    {
      "cell_type": "code",
      "source": [
        "# Create an empty set - if you dont care aboutthe order of the elements knowling that they're unique, use set\n",
        "\n",
        "s = set()\n",
        "\n",
        "# add elements to set\n",
        "s.add(1)\n",
        "s.add(2)\n",
        "s.add(3)\n",
        "s.add(4)\n",
        "print(s)"
      ],
      "metadata": {
        "colab": {
          "base_uri": "https://localhost:8080/"
        },
        "id": "ex3m4gPkuhex",
        "outputId": "cd42f041-434d-47a5-a070-0e4c4244a85d"
      },
      "execution_count": 22,
      "outputs": [
        {
          "output_type": "stream",
          "name": "stdout",
          "text": [
            "{1, 2, 3, 4}\n"
          ]
        }
      ]
    },
    {
      "cell_type": "code",
      "source": [
        "s = set()\n",
        "\n",
        "# add elements to set\n",
        "s.add(1)\n",
        "s.add(2)\n",
        "s.add(3)\n",
        "s.add(4)\n",
        "s.add(3)\n",
        "print(s)\n",
        "\n",
        "# add 3 twice. It doesnt repeat itself."
      ],
      "metadata": {
        "colab": {
          "base_uri": "https://localhost:8080/"
        },
        "id": "r8aVZcChALUI",
        "outputId": "657798bd-e445-4292-e8b3-d5e49a5b033e"
      },
      "execution_count": 23,
      "outputs": [
        {
          "output_type": "stream",
          "name": "stdout",
          "text": [
            "{1, 2, 3, 4}\n"
          ]
        }
      ]
    },
    {
      "cell_type": "markdown",
      "source": [
        ""
      ],
      "metadata": {
        "id": "0F212GV6AK7T"
      }
    },
    {
      "cell_type": "code",
      "source": [
        "s = set()\n",
        "\n",
        "# add elements to set\n",
        "s.add(1)\n",
        "s.add(2)\n",
        "s.add(3)\n",
        "s.add(4)\n",
        "s.add(3)\n",
        "\n",
        "s.remove(2)\n",
        "print(s)"
      ],
      "metadata": {
        "colab": {
          "base_uri": "https://localhost:8080/"
        },
        "id": "M78w6LtUAKt-",
        "outputId": "52b4f695-ea6a-4cc2-c6e2-9dafa42aa5f1"
      },
      "execution_count": 24,
      "outputs": [
        {
          "output_type": "stream",
          "name": "stdout",
          "text": [
            "{1, 3, 4}\n"
          ]
        }
      ]
    },
    {
      "cell_type": "code",
      "source": [
        "print(f\"The set has {len(s)} elements\") #calculates the lenght of the set \"s\""
      ],
      "metadata": {
        "colab": {
          "base_uri": "https://localhost:8080/"
        },
        "id": "YZRqQVfBAfX-",
        "outputId": "12c8bf90-ca0d-402e-b3f5-dcf971ca3a70"
      },
      "execution_count": 25,
      "outputs": [
        {
          "output_type": "stream",
          "name": "stdout",
          "text": [
            "The set has 3 elements\n"
          ]
        }
      ]
    },
    {
      "cell_type": "markdown",
      "source": [
        "loops.py"
      ],
      "metadata": {
        "id": "Ovo3dLCOAfMk"
      }
    },
    {
      "cell_type": "code",
      "source": [
        "for i in [0, 1, 2, 3, 4, 5]:\n",
        "  print(i)\n",
        "\n",
        "# Creates a loop printing each of the numbers when their time comes"
      ],
      "metadata": {
        "colab": {
          "base_uri": "https://localhost:8080/"
        },
        "id": "U5UqIwNWAfAX",
        "outputId": "41c1e39a-cae4-4329-a9cf-38ec725cda1b"
      },
      "execution_count": 26,
      "outputs": [
        {
          "output_type": "stream",
          "name": "stdout",
          "text": [
            "0\n",
            "1\n",
            "2\n",
            "3\n",
            "4\n",
            "5\n"
          ]
        }
      ]
    },
    {
      "cell_type": "code",
      "source": [
        "for i in range(6): \n",
        "  print (i)\n",
        "\n",
        "# Does the same thing"
      ],
      "metadata": {
        "colab": {
          "base_uri": "https://localhost:8080/"
        },
        "id": "-ddn4-g4BmpJ",
        "outputId": "0568cde7-2857-4674-f38e-02c9a93e4157"
      },
      "execution_count": 27,
      "outputs": [
        {
          "output_type": "stream",
          "name": "stdout",
          "text": [
            "0\n",
            "1\n",
            "2\n",
            "3\n",
            "4\n",
            "5\n"
          ]
        }
      ]
    },
    {
      "cell_type": "code",
      "source": [
        "names = [\"John\", \"Gabriel\", \"Italo\"]\n",
        "\n",
        "for name in names: # perceba que nesse caso ele simplesmente ta declarando a variavel \"name\" no meio do codigo. Pyhton.\n",
        "  print(name)\n"
      ],
      "metadata": {
        "colab": {
          "base_uri": "https://localhost:8080/"
        },
        "id": "Xlq-1peWBmcw",
        "outputId": "5984a3c3-fb5b-493e-eabb-686fca32b8c1"
      },
      "execution_count": 31,
      "outputs": [
        {
          "output_type": "stream",
          "name": "stdout",
          "text": [
            "John\n",
            "Gabriel\n",
            "Italo\n"
          ]
        }
      ]
    },
    {
      "cell_type": "markdown",
      "source": [
        ""
      ],
      "metadata": {
        "id": "2ixTzW1GCPcE"
      }
    },
    {
      "cell_type": "code",
      "source": [
        "name = \"Harry\"\n",
        "\n",
        "for character in name:\n",
        "  print(character)"
      ],
      "metadata": {
        "colab": {
          "base_uri": "https://localhost:8080/"
        },
        "id": "SX27Yj-ICPK3",
        "outputId": "72117bfa-3c68-4672-89cc-65ced6c6f06e"
      },
      "execution_count": 32,
      "outputs": [
        {
          "output_type": "stream",
          "name": "stdout",
          "text": [
            "H\n",
            "a\n",
            "r\n",
            "r\n",
            "y\n"
          ]
        }
      ]
    },
    {
      "cell_type": "markdown",
      "source": [
        "dictionaries.py"
      ],
      "metadata": {
        "id": "8wTtxws3CyGL"
      }
    },
    {
      "cell_type": "code",
      "source": [
        "houses = {\"Harry\": \"Gryffindor\", \"Draco\": \"Slytherin\"}\n",
        "\n",
        "print(houses[\"Harry\"])"
      ],
      "metadata": {
        "colab": {
          "base_uri": "https://localhost:8080/"
        },
        "id": "ETzg7bDUCO9H",
        "outputId": "dca9b4cf-45d0-4a4c-b648-ec85b1276b5c"
      },
      "execution_count": 34,
      "outputs": [
        {
          "output_type": "stream",
          "name": "stdout",
          "text": [
            "Gryffindor\n"
          ]
        }
      ]
    },
    {
      "cell_type": "code",
      "source": [
        "houses = {\"Harry\": \"Gryffindor\", \"Draco\": \"Slytherin\"}\n",
        "\n",
        "houses[\"Hermione\"] = \"Gryffindor\"\n",
        "\n",
        "print(houses[\"Hermione\"])"
      ],
      "metadata": {
        "colab": {
          "base_uri": "https://localhost:8080/"
        },
        "id": "Ax0p7YWoDPlY",
        "outputId": "d51a1d95-a9c3-4e1a-d2fa-0cfd81b06903"
      },
      "execution_count": 36,
      "outputs": [
        {
          "output_type": "stream",
          "name": "stdout",
          "text": [
            "Gryffindor\n"
          ]
        }
      ]
    },
    {
      "cell_type": "markdown",
      "source": [
        "###Functions"
      ],
      "metadata": {
        "id": "ABDofVAODWXE"
      }
    },
    {
      "cell_type": "markdown",
      "source": [
        "functions.py"
      ],
      "metadata": {
        "id": "9axfzUUWDeaw"
      }
    },
    {
      "cell_type": "code",
      "source": [
        "def square(x): #sintaxe muito semelhante ao c++\n",
        "  return x * x\n",
        "\n",
        "for i in range(10):\n",
        "  print(f\"The square of {i} is {square(i)}\")"
      ],
      "metadata": {
        "colab": {
          "base_uri": "https://localhost:8080/"
        },
        "id": "mqw9dBKuDZ5S",
        "outputId": "5f27e7d9-cbd2-4307-c9b7-19e2b1d31633"
      },
      "execution_count": 37,
      "outputs": [
        {
          "output_type": "stream",
          "name": "stdout",
          "text": [
            "The square of 0 is 0\n",
            "The square of 1 is 1\n",
            "The square of 2 is 4\n",
            "The square of 3 is 9\n",
            "The square of 4 is 16\n",
            "The square of 5 is 25\n",
            "The square of 6 is 36\n",
            "The square of 7 is 49\n",
            "The square of 8 is 64\n",
            "The square of 9 is 81\n"
          ]
        }
      ]
    },
    {
      "cell_type": "markdown",
      "source": [
        "squares.py"
      ],
      "metadata": {
        "id": "LkpUlErnD9uh"
      }
    },
    {
      "cell_type": "code",
      "source": [
        "from Python_Harvard_Class import square # ??\n",
        "\n",
        "for i in range(10):\n",
        "  print(f\"The square of {i} is {square(i)}\")"
      ],
      "metadata": {
        "colab": {
          "base_uri": "https://localhost:8080/",
          "height": 356
        },
        "id": "RPbrY1KtD8Tr",
        "outputId": "92526449-e1b7-4e85-8af9-bade3d672e8c"
      },
      "execution_count": 40,
      "outputs": [
        {
          "output_type": "error",
          "ename": "ModuleNotFoundError",
          "evalue": "ignored",
          "traceback": [
            "\u001b[0;31m---------------------------------------------------------------------------\u001b[0m",
            "\u001b[0;31mModuleNotFoundError\u001b[0m                       Traceback (most recent call last)",
            "\u001b[0;32m<ipython-input-40-b8fa86cf6030>\u001b[0m in \u001b[0;36m<module>\u001b[0;34m()\u001b[0m\n\u001b[0;32m----> 1\u001b[0;31m \u001b[0;32mfrom\u001b[0m \u001b[0mPython_Harvard_Class\u001b[0m \u001b[0;32mimport\u001b[0m \u001b[0msquare\u001b[0m\u001b[0;34m\u001b[0m\u001b[0;34m\u001b[0m\u001b[0m\n\u001b[0m\u001b[1;32m      2\u001b[0m \u001b[0;34m\u001b[0m\u001b[0m\n\u001b[1;32m      3\u001b[0m \u001b[0;32mfor\u001b[0m \u001b[0mi\u001b[0m \u001b[0;32min\u001b[0m \u001b[0mrange\u001b[0m\u001b[0;34m(\u001b[0m\u001b[0;36m10\u001b[0m\u001b[0;34m)\u001b[0m\u001b[0;34m:\u001b[0m\u001b[0;34m\u001b[0m\u001b[0;34m\u001b[0m\u001b[0m\n\u001b[1;32m      4\u001b[0m   \u001b[0mprint\u001b[0m\u001b[0;34m(\u001b[0m\u001b[0;34mf\"The square of {i} is {square(i)}\"\u001b[0m\u001b[0;34m)\u001b[0m\u001b[0;34m\u001b[0m\u001b[0;34m\u001b[0m\u001b[0m\n",
            "\u001b[0;31mModuleNotFoundError\u001b[0m: No module named 'Python_Harvard_Class'",
            "",
            "\u001b[0;31m---------------------------------------------------------------------------\u001b[0;32m\nNOTE: If your import is failing due to a missing package, you can\nmanually install dependencies using either !pip or !apt.\n\nTo view examples of installing some common dependencies, click the\n\"Open Examples\" button below.\n\u001b[0;31m---------------------------------------------------------------------------\u001b[0m\n"
          ],
          "errorDetails": {
            "actions": [
              {
                "action": "open_url",
                "actionText": "Open Examples",
                "url": "/notebooks/snippets/importing_libraries.ipynb"
              }
            ]
          }
        }
      ]
    },
    {
      "cell_type": "code",
      "source": [
        "import functions\n",
        "\n",
        "for i in range(10):\n",
        "  print(f\"The square of {i} is {functions.square(i)}\")"
      ],
      "metadata": {
        "colab": {
          "base_uri": "https://localhost:8080/",
          "height": 356
        },
        "id": "p2CVrPTDEtAg",
        "outputId": "2493618a-a3e3-404f-8c67-c29def7e80ea"
      },
      "execution_count": 41,
      "outputs": [
        {
          "output_type": "error",
          "ename": "ModuleNotFoundError",
          "evalue": "ignored",
          "traceback": [
            "\u001b[0;31m---------------------------------------------------------------------------\u001b[0m",
            "\u001b[0;31mModuleNotFoundError\u001b[0m                       Traceback (most recent call last)",
            "\u001b[0;32m<ipython-input-41-865690eeaeba>\u001b[0m in \u001b[0;36m<module>\u001b[0;34m()\u001b[0m\n\u001b[0;32m----> 1\u001b[0;31m \u001b[0;32mimport\u001b[0m \u001b[0mfunctions\u001b[0m\u001b[0;34m\u001b[0m\u001b[0;34m\u001b[0m\u001b[0m\n\u001b[0m\u001b[1;32m      2\u001b[0m \u001b[0;34m\u001b[0m\u001b[0m\n\u001b[1;32m      3\u001b[0m \u001b[0;32mfor\u001b[0m \u001b[0mi\u001b[0m \u001b[0;32min\u001b[0m \u001b[0mrange\u001b[0m\u001b[0;34m(\u001b[0m\u001b[0;36m10\u001b[0m\u001b[0;34m)\u001b[0m\u001b[0;34m:\u001b[0m\u001b[0;34m\u001b[0m\u001b[0;34m\u001b[0m\u001b[0m\n\u001b[1;32m      4\u001b[0m   \u001b[0mprint\u001b[0m\u001b[0;34m(\u001b[0m\u001b[0;34mf\"The square of {i} is {functions.square(i)}\"\u001b[0m\u001b[0;34m)\u001b[0m\u001b[0;34m\u001b[0m\u001b[0;34m\u001b[0m\u001b[0m\n",
            "\u001b[0;31mModuleNotFoundError\u001b[0m: No module named 'functions'",
            "",
            "\u001b[0;31m---------------------------------------------------------------------------\u001b[0;32m\nNOTE: If your import is failing due to a missing package, you can\nmanually install dependencies using either !pip or !apt.\n\nTo view examples of installing some common dependencies, click the\n\"Open Examples\" button below.\n\u001b[0;31m---------------------------------------------------------------------------\u001b[0m\n"
          ],
          "errorDetails": {
            "actions": [
              {
                "action": "open_url",
                "actionText": "Open Examples",
                "url": "/notebooks/snippets/importing_libraries.ipynb"
              }
            ]
          }
        }
      ]
    },
    {
      "cell_type": "markdown",
      "source": [
        "classes.py"
      ],
      "metadata": {
        "id": "XQ6PAVlPGBtg"
      }
    },
    {
      "cell_type": "code",
      "source": [
        "class Point():\n",
        "  def __init__(self, input1, input2):\n",
        "    self.x = input1\n",
        "    self.y = input2\n",
        "\n",
        "p = Point(2, 8)\n",
        "print(p.x)\n",
        "print(p.y)\n",
        "\n"
      ],
      "metadata": {
        "colab": {
          "base_uri": "https://localhost:8080/"
        },
        "id": "b0huya7QFh-X",
        "outputId": "cad61fd5-604c-4995-af25-3565102e754b"
      },
      "execution_count": 43,
      "outputs": [
        {
          "output_type": "stream",
          "name": "stdout",
          "text": [
            "2\n",
            "8\n"
          ]
        }
      ]
    },
    {
      "cell_type": "code",
      "source": [
        "class Flight():\n",
        "  def __init__(self, capacity):\n",
        "    self.capacity = capacity\n",
        "    self.passengers = []\n",
        "\n",
        "  def add_passenger(self, name): #adding something to the list \"passangers\"\n",
        "    if not self.open_seats():\n",
        "      return False\n",
        "    self.passengers.append(name)\n",
        "    return True\n",
        "\n",
        "  def open_seats(self):\n",
        "    return self.capacity - len(self.passengers)\n",
        "\n",
        "flight = Flight(3)\n",
        "\n",
        "people = [\"Harry\", \"Ron\", \"Hermione\", \"Ginny\"]\n",
        "for person in people:\n",
        "  success = flight.add_passenger(person)\n",
        "  if success:\n",
        "    print(f\"Added {person} to flight successfully.\")\n",
        "  else:\n",
        "    print(f\"There are no available seats for {person}\")\n"
      ],
      "metadata": {
        "colab": {
          "base_uri": "https://localhost:8080/"
        },
        "id": "Utsvx9CLFhyt",
        "outputId": "82dcae28-b4ad-4a4c-d2b4-f874aafeca54"
      },
      "execution_count": 44,
      "outputs": [
        {
          "output_type": "stream",
          "name": "stdout",
          "text": [
            "Added Harry to flight successfully.\n",
            "Added Ron to flight successfully.\n",
            "Added Hermione to flight successfully.\n",
            "There are no available seats for Ginny\n"
          ]
        }
      ]
    },
    {
      "cell_type": "markdown",
      "source": [
        "decorators.py"
      ],
      "metadata": {
        "id": "j1edQ9otJ1mv"
      }
    },
    {
      "cell_type": "code",
      "source": [
        "def announce(f):\n",
        "  def wrapper():\n",
        "    print(\"About to run the function...\")\n",
        "    f()\n",
        "    print(\"Done with the function.\")\n",
        "  return wrapper\n",
        "\n",
        "\n",
        "@announce\n",
        "def hello():\n",
        "  print(\"Hello, world!\")\n",
        "\n",
        "hello()"
      ],
      "metadata": {
        "colab": {
          "base_uri": "https://localhost:8080/"
        },
        "id": "soHPlrIJFd73",
        "outputId": "8aee7861-0149-45a6-e698-c1479549015b"
      },
      "execution_count": 47,
      "outputs": [
        {
          "output_type": "stream",
          "name": "stdout",
          "text": [
            "About to run the function...\n",
            "Hello, world!\n",
            "Done with the function.\n"
          ]
        }
      ]
    },
    {
      "cell_type": "markdown",
      "source": [
        "lambda.py"
      ],
      "metadata": {
        "id": "SBwF4yq4Kvtj"
      }
    },
    {
      "cell_type": "code",
      "source": [
        "people = [\n",
        "          {\"name\": \"Harry\", \"house\": \"Gryffindor\"},\n",
        "          {\"name\": \"Cho\", \"house\": \"Ravenclaw\"},\n",
        "          {\"name\": \"Cedric\", \"house\": \"Hufflepuff\"}         \n",
        "]\n",
        "\n",
        "def f(person):\n",
        "  return person[\"house\"]\n",
        "\n",
        "people.sort(key=f)\n",
        "\n",
        "print(people)"
      ],
      "metadata": {
        "colab": {
          "base_uri": "https://localhost:8080/"
        },
        "id": "k8Ht_SW9Kv77",
        "outputId": "1bcdf441-0b5f-46b0-9e3e-bc43d6f6581b"
      },
      "execution_count": 50,
      "outputs": [
        {
          "output_type": "stream",
          "name": "stdout",
          "text": [
            "[{'name': 'Harry', 'house': 'Gryffindor'}, {'name': 'Cedric', 'house': 'Hufflepuff'}, {'name': 'Cho', 'house': 'Ravenclaw'}]\n"
          ]
        }
      ]
    },
    {
      "cell_type": "code",
      "source": [
        "people = [\n",
        "          {\"name\": \"Harry\", \"house\": \"Gryffindor\"},\n",
        "          {\"name\": \"Cho\", \"house\": \"Ravenclaw\"},\n",
        "          {\"name\": \"Cedric\", \"house\": \"Hufflepuff\"}         \n",
        "]\n",
        "\n",
        "people.sort(key=lambda person: person[\"name\"])\n",
        "\n",
        "print(people)"
      ],
      "metadata": {
        "colab": {
          "base_uri": "https://localhost:8080/"
        },
        "id": "NLPVoX8bMKFN",
        "outputId": "ebe90ac4-5c86-42a7-a2be-21e9145a79ff"
      },
      "execution_count": 51,
      "outputs": [
        {
          "output_type": "stream",
          "name": "stdout",
          "text": [
            "[{'name': 'Cedric', 'house': 'Hufflepuff'}, {'name': 'Cho', 'house': 'Ravenclaw'}, {'name': 'Harry', 'house': 'Gryffindor'}]\n"
          ]
        }
      ]
    },
    {
      "cell_type": "markdown",
      "source": [
        "exceptions.py"
      ],
      "metadata": {
        "id": "t-T1rQp7Mb-n"
      }
    },
    {
      "cell_type": "code",
      "source": [
        "import sys \n",
        "\n",
        "x = int(input(\"x: \"))\n",
        "y = int(input(\"y: \"))\n",
        "\n",
        "try:\n",
        "    result = x / y\n",
        "except ZeroDivisionError:\n",
        "    print(\"Error: Cannot divide by zero.\")\n",
        "    sys.exit(1)\n",
        "\n",
        "print(f\"{x} / {y} = {result}\")"
      ],
      "metadata": {
        "colab": {
          "base_uri": "https://localhost:8080/",
          "height": 252
        },
        "id": "L68ZPoGRMdbI",
        "outputId": "59a4de34-f7b6-4b3b-f37c-7980fcf8314f"
      },
      "execution_count": 56,
      "outputs": [
        {
          "name": "stdout",
          "output_type": "stream",
          "text": [
            "x: hi\n"
          ]
        },
        {
          "output_type": "error",
          "ename": "ValueError",
          "evalue": "ignored",
          "traceback": [
            "\u001b[0;31m---------------------------------------------------------------------------\u001b[0m",
            "\u001b[0;31mValueError\u001b[0m                                Traceback (most recent call last)",
            "\u001b[0;32m<ipython-input-56-da9b89e84d0e>\u001b[0m in \u001b[0;36m<module>\u001b[0;34m()\u001b[0m\n\u001b[1;32m      1\u001b[0m \u001b[0;32mimport\u001b[0m \u001b[0msys\u001b[0m\u001b[0;34m\u001b[0m\u001b[0;34m\u001b[0m\u001b[0m\n\u001b[1;32m      2\u001b[0m \u001b[0;34m\u001b[0m\u001b[0m\n\u001b[0;32m----> 3\u001b[0;31m \u001b[0mx\u001b[0m \u001b[0;34m=\u001b[0m \u001b[0mint\u001b[0m\u001b[0;34m(\u001b[0m\u001b[0minput\u001b[0m\u001b[0;34m(\u001b[0m\u001b[0;34m\"x: \"\u001b[0m\u001b[0;34m)\u001b[0m\u001b[0;34m)\u001b[0m\u001b[0;34m\u001b[0m\u001b[0;34m\u001b[0m\u001b[0m\n\u001b[0m\u001b[1;32m      4\u001b[0m \u001b[0my\u001b[0m \u001b[0;34m=\u001b[0m \u001b[0mint\u001b[0m\u001b[0;34m(\u001b[0m\u001b[0minput\u001b[0m\u001b[0;34m(\u001b[0m\u001b[0;34m\"y: \"\u001b[0m\u001b[0;34m)\u001b[0m\u001b[0;34m)\u001b[0m\u001b[0;34m\u001b[0m\u001b[0;34m\u001b[0m\u001b[0m\n\u001b[1;32m      5\u001b[0m \u001b[0;34m\u001b[0m\u001b[0m\n",
            "\u001b[0;31mValueError\u001b[0m: invalid literal for int() with base 10: 'hi'"
          ]
        }
      ]
    },
    {
      "cell_type": "code",
      "source": [
        "import sys \n",
        "\n",
        "x = int(input(\"x: \"))\n",
        "y = int(input(\"y: \"))\n",
        "\n",
        "try:\n",
        "    result = x / y\n",
        "except ValueError:\n",
        "    print(\"Error: invalid input.\")\n",
        "    sys.exit(1)\n",
        "\n",
        "try:\n",
        "    result = x / y\n",
        "except ZeroDivisionError:\n",
        "    print(\"Error: Cannot divide by zero.\")\n",
        "    sys.exit(1)\n",
        "\n",
        "print(f\"{x} / {y} = {result}\")"
      ],
      "metadata": {
        "colab": {
          "base_uri": "https://localhost:8080/",
          "height": 269
        },
        "id": "YS8qog5FOE3a",
        "outputId": "2ec7cd39-67af-4ad6-a6c4-1b761e3de19d"
      },
      "execution_count": 58,
      "outputs": [
        {
          "name": "stdout",
          "output_type": "stream",
          "text": [
            "x: 4\n",
            "y: l\n"
          ]
        },
        {
          "output_type": "error",
          "ename": "ValueError",
          "evalue": "ignored",
          "traceback": [
            "\u001b[0;31m---------------------------------------------------------------------------\u001b[0m",
            "\u001b[0;31mValueError\u001b[0m                                Traceback (most recent call last)",
            "\u001b[0;32m<ipython-input-58-b755a0df9865>\u001b[0m in \u001b[0;36m<module>\u001b[0;34m()\u001b[0m\n\u001b[1;32m      2\u001b[0m \u001b[0;34m\u001b[0m\u001b[0m\n\u001b[1;32m      3\u001b[0m \u001b[0mx\u001b[0m \u001b[0;34m=\u001b[0m \u001b[0mint\u001b[0m\u001b[0;34m(\u001b[0m\u001b[0minput\u001b[0m\u001b[0;34m(\u001b[0m\u001b[0;34m\"x: \"\u001b[0m\u001b[0;34m)\u001b[0m\u001b[0;34m)\u001b[0m\u001b[0;34m\u001b[0m\u001b[0;34m\u001b[0m\u001b[0m\n\u001b[0;32m----> 4\u001b[0;31m \u001b[0my\u001b[0m \u001b[0;34m=\u001b[0m \u001b[0mint\u001b[0m\u001b[0;34m(\u001b[0m\u001b[0minput\u001b[0m\u001b[0;34m(\u001b[0m\u001b[0;34m\"y: \"\u001b[0m\u001b[0;34m)\u001b[0m\u001b[0;34m)\u001b[0m\u001b[0;34m\u001b[0m\u001b[0;34m\u001b[0m\u001b[0m\n\u001b[0m\u001b[1;32m      5\u001b[0m \u001b[0;34m\u001b[0m\u001b[0m\n\u001b[1;32m      6\u001b[0m \u001b[0;32mtry\u001b[0m\u001b[0;34m:\u001b[0m\u001b[0;34m\u001b[0m\u001b[0;34m\u001b[0m\u001b[0m\n",
            "\u001b[0;31mValueError\u001b[0m: invalid literal for int() with base 10: 'l'"
          ]
        }
      ]
    }
  ]
}